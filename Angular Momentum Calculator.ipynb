{
 "cells": [
  {
   "cell_type": "code",
   "execution_count": 2,
   "metadata": {
    "collapsed": true
   },
   "outputs": [],
   "source": [
    "import numpy as np\n",
    "import scipy.stats as sc\n",
    "import matplotlib.pyplot as plt\n",
    "%matplotlib inline"
   ]
  },
  {
   "cell_type": "code",
   "execution_count": 3,
   "metadata": {
    "collapsed": false
   },
   "outputs": [],
   "source": [
    "e_disk = np.genfromtxt(\"orbits_disk_e.csv\", delimiter=\",\", dtype=\"float\")\n",
    "t = e_disk[:,101]\n",
    "e_disk = np.delete(e_disk, [0,100], axis=1)\n",
    "e_disk = np.delete(e_disk, [0,99], axis=1)\n",
    "#######################################################################################\n",
    "a_disk = np.genfromtxt(\"orbits_disk_a.csv\", delimiter=\",\", dtype=\"float\")\n",
    "a_disk = np.delete(a_disk, [0,100], axis=1)\n",
    "a_disk = np.delete(a_disk, [0,99], axis=1)\n",
    "#######################################################################################\n",
    "inc_disk = np.genfromtxt(\"orbits_disk_inc.csv\", delimiter=\",\", dtype=\"float\")\n",
    "inc_disk = np.delete(inc_disk, [0,100], axis=1)\n",
    "inc_disk = np.delete(inc_disk, [0,99], axis=1)\n",
    "######################################################################################\n",
    "omega_disk = np.genfromtxt(\"orbits_disk_omega.csv\", delimiter=\",\", dtype=\"float\")\n",
    "omega_disk = np.delete(omega_disk, [0,100], axis=1)\n",
    "omega_disk = np.delete(omega_disk, [0,99], axis=1)\n",
    "######################################################################################\n",
    "Omega_disk = np.genfromtxt(\"orbits_disk_Omega1.csv\", delimiter=\",\", dtype=\"float\")\n",
    "Omega_disk = np.delete(Omega_disk, [0,100], axis=1)\n",
    "Omega_disk = np.delete(Omega_disk, [0,99], axis=1)\n",
    "######################################################################################\n",
    "M_disk = np.genfromtxt(\"orbits_disk_M.csv\", delimiter=\",\", dtype=\"float\")\n",
    "M_disk = np.delete(M_disk, [0,100], axis=1)\n",
    "M_disk = np.delete(M_disk, [0,99], axis=1)"
   ]
  },
  {
   "cell_type": "code",
   "execution_count": 4,
   "metadata": {
    "collapsed": false
   },
   "outputs": [],
   "source": [
    "e_bowl = np.genfromtxt(\"orbits_bowl_e.csv\", delimiter=\",\", dtype=\"float\")\n",
    "e_bowl = np.delete(e_bowl, [0,100], axis=1)\n",
    "e_bowl = np.delete(e_bowl, [0,99], axis=1)\n",
    "#######################################################################################\n",
    "a_bowl = np.genfromtxt(\"orbits_bowl_a.csv\", delimiter=\",\", dtype=\"float\")\n",
    "a_bowl = np.delete(a_bowl, [0,100], axis=1)\n",
    "a_bowl = np.delete(a_bowl, [0,99], axis=1)\n",
    "#######################################################################################\n",
    "inc_bowl = np.genfromtxt(\"orbits_bowl_inc.csv\", delimiter=\",\", dtype=\"float\")\n",
    "inc_bowl = np.delete(inc_bowl, [0,100], axis=1)\n",
    "inc_bowl = np.delete(inc_bowl, [0,99], axis=1)\n",
    "######################################################################################\n",
    "omega_bowl = np.genfromtxt(\"orbits_bowl_omega.csv\", delimiter=\",\", dtype=\"float\")\n",
    "omega_bowl = np.delete(omega_bowl, [0,100], axis=1)\n",
    "omega_bowl = np.delete(omega_bowl, [0,99], axis=1)\n",
    "######################################################################################\n",
    "Omega_bowl = np.genfromtxt(\"orbits_bowl_Omega1.csv\", delimiter=\",\", dtype=\"float\")\n",
    "Omega_bowl = np.delete(Omega_bowl, [0,100], axis=1)\n",
    "Omega_bowl = np.delete(Omega_bowl, [0,99], axis=1)\n",
    "######################################################################################\n",
    "M_bowl = np.genfromtxt(\"orbits_bowl_M.csv\", delimiter=\",\", dtype=\"float\")\n",
    "M_bowl = np.delete(M_bowl, [0,100], axis=1)\n",
    "M_bowl = np.delete(M_bowl, [0,99], axis=1)"
   ]
  },
  {
   "cell_type": "code",
   "execution_count": 5,
   "metadata": {
    "collapsed": true
   },
   "outputs": [],
   "source": [
    "def Angular_Momentum(e,a,i,omega,Omega,nu,MASS_BH,MASS_STAR):\n",
    "    p = (a * (1 - (e * e)))\n",
    "    r = p / (1 + (e * np.cos(nu)))\n",
    "    ############################################\n",
    "    cO = np.cos(Omega)\n",
    "    sO = np.sin(Omega)\n",
    "    ci = np.cos(i)\n",
    "    si = np.sin(i)\n",
    "    co = np.cos(omega + nu)\n",
    "    so = np.sin(omega + nu)\n",
    "    sn = np.sin(nu)\n",
    "    ##############################################\n",
    "    x = r * ((cO * co) - (sO * so * ci))\n",
    "    y = r * ((sO * co) + (cO * so * ci))\n",
    "    z = r * (si * so)\n",
    "    mag_r = np.sqrt(x**2 + y**2 + z**2)\n",
    "    ###################################################\n",
    "    mu = MASS_BH + MASS_STAR\n",
    "    h = np.sqrt(mu * p)\n",
    "    herp = ((h * e) / (r * p)) * sn\n",
    "    hr = h / r\n",
    "    #################################################\n",
    "    vx = (x * herp) - (hr * ((cO * so) + (sO * co * ci)))\n",
    "    vy = (y * herp) - (hr * ((sO * so) - (cO * co * ci)))\n",
    "    vz = (z * herp) + (hr * si * co)\n",
    "    #######################################################\n",
    "    Jx = y*vz - z*vy\n",
    "    Jy = z*vx - x*vz\n",
    "    Jz = x*vy - y*vx\n",
    "    mag = np.sqrt(Jx**2 + Jy**2 + Jz**2)\n",
    "    Jx = Jx / mag\n",
    "    Jy = Jy / mag\n",
    "    Jz = Jz / mag\n",
    "    ######################################################\n",
    "    Jx_Mean = np.mean(Jx)\n",
    "    Jy_Mean = np.mean(Jy)\n",
    "    Jz_Mean = np.mean(Jz)\n",
    "    Jx_STD = np.std(Jx)\n",
    "    Jy_STD = np.std(Jy)\n",
    "    Jz_STD = np.std(Jz)\n",
    "    ##############################################################\n",
    "    ex = (vy*Jz - vz*Jy) - x / mag_r\n",
    "    ey = (vz*Jx - vx*Jz) - y / mag_r\n",
    "    ez = (vx*Jy - vy*Jx) - z / mag_r\n",
    "    mag_e = np.sqrt(ex**2 + ey**2 + ez**2)\n",
    "    ex = ex / mag_e\n",
    "    ey = ey / mag_e\n",
    "    ez = ez / mag_e\n",
    "    ###################################################################\n",
    "    ex_Mean = np.mean(ex)\n",
    "    ey_Mean = np.mean(ey)\n",
    "    ez_Mean = np.mean(ez)\n",
    "    ex_STD = np.std(ex)\n",
    "    ey_STD = np.std(ey)\n",
    "    ez_STD = np.std(ez)\n",
    "    return Jx,Jy,Jz,Jx_Mean,Jy_Mean,Jz_Mean,Jx_STD,Jy_STD,Jz_STD,ex,ey,ez,ex_Mean,ey_Mean,ez_Mean,ex_STD,ey_STD,ez_STD"
   ]
  },
  {
   "cell_type": "code",
   "execution_count": 8,
   "metadata": {
    "collapsed": false
   },
   "outputs": [],
   "source": [
    "data_values = np.zeros((len(t),len(e_bowl[0])))\n",
    "for n in range(len(t)):\n",
    "    Jx_D,Jy_D,Jz_D,Jx_Mean_D,Jy_Mean_D,Jz_Mean_D,Jx_STD_D,Jy_STD_D,Jz_STD_D,ex_D,ey_D,ez_D,ex_Mean_D,ey_Mean_D,ez_Mean_D,ex_STD_D,ey_STD_D,ez_STD_D = Angular_Momentum(e_disk[n],a_disk[n],inc_disk[n],omega_disk[n],Omega_disk[n],M_disk[n],1,1e-4)\n",
    "    Jx_B,Jy_B,Jz_B,Jx_Mean_B,Jy_Mean_B,Jz_Mean_B,Jx_STD_B,Jy_STD_B,Jz_STD_B,ex_B,ey_B,ez_B,ex_Mean_B,ey_Mean_B,ez_Mean_B,ex_STD_B,ey_STD_B,ez_STD_B = Angular_Momentum(e_bowl[n],a_bowl[n],inc_bowl[n],omega_bowl[n],Omega_bowl[n],M_bowl[n],1,.0002)\n",
    "    for m in range(len(ex_B)):\n",
    "        if np.abs(Jx_B[m]) <= Jx_Mean_D+Jx_STD_D and np.abs(Jy_B[m]) <= Jy_Mean_D+Jy_STD_D and np.abs(Jz_B[m]) <= Jz_Mean_D+Jy_STD_D:\n",
    "            data_values[n][m] += 1\n",
    "            if np.abs(ex_B[m]) <= ex_Mean_D+ex_STD_D and np.abs(ey_B[m]) <= ey_Mean_D+ey_STD_D and np.abs(ez_B[m]) <= ez_Mean_D+ez_STD_D:\n",
    "                data_values[n][m] += 1"
   ]
  },
  {
   "cell_type": "code",
   "execution_count": 9,
   "metadata": {
    "collapsed": false
   },
   "outputs": [
    {
     "data": {
      "image/png": "[encoded data removed]",
      "text/plain": [
       "<matplotlib.figure.Figure at 0x1603d9e8>"
      ]
     },
     "metadata": {},
     "output_type": "display_data"
    }
   ],
   "source": [
    "plt.figure(figsize=(20,10))\n",
    "imgplot = plt.imshow(data_values, interpolation='none',aspect='auto')\n",
    "plt.colorbar()\n",
    "plt.title('Momentum Check',fontsize = 20)\n",
    "plt.xlabel(\"Star #\", fontsize = 18)\n",
    "plt.savefig('AngularMomentum_1.png')"
   ]
  },
  {
   "cell_type": "code",
   "execution_count": null,
   "metadata": {
    "collapsed": true
   },
   "outputs": [],
   "source": []
  },
  {
   "cell_type": "code",
   "execution_count": null,
   "metadata": {
    "collapsed": true
   },
   "outputs": [],
   "source": []
  }
 ],
 "metadata": {
  "kernelspec": {
   "display_name": "Python 2",
   "language": "python",
   "name": "python2"
  },
  "language_info": {
   "codemirror_mode": {
    "name": "ipython",
    "version": 2
   },
   "file_extension": ".py",
   "mimetype": "text/x-python",
   "name": "python",
   "nbconvert_exporter": "python",
   "pygments_lexer": "ipython2",
   "version": "2.7.10"
  }
 },
 "nbformat": 4,
 "nbformat_minor": 0
}
